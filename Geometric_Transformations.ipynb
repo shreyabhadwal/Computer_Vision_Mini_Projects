{
 "cells": [
  {
   "cell_type": "markdown",
   "id": "2270d94c",
   "metadata": {},
   "source": [
    "# Geometric Transformations \n",
    "<br>"
   ]
  },
  {
   "cell_type": "code",
   "execution_count": 1,
   "id": "c5dad126",
   "metadata": {},
   "outputs": [],
   "source": [
    "import cv2\n",
    "import numpy as np"
   ]
  },
  {
   "cell_type": "markdown",
   "id": "0da87e74",
   "metadata": {},
   "source": [
    "\n",
    "## Input Image"
   ]
  },
  {
   "cell_type": "markdown",
   "id": "290d6855",
   "metadata": {},
   "source": [
    "Taking image as input"
   ]
  },
  {
   "cell_type": "code",
   "execution_count": 2,
   "id": "534b2f58",
   "metadata": {},
   "outputs": [],
   "source": [
    "def input_image():\n",
    "    \n",
    "    image_path = input(\"Enter path of the image :\")\n",
    "    img = cv2.imread(image_path)\n",
    "    cv2.imshow('Input',img)\n",
    "    cv2.waitKey(0)\n",
    "    cv2.destroyAllWindows()  \n",
    "    \n",
    "    return img"
   ]
  },
  {
   "cell_type": "markdown",
   "id": "bc8d8fa3",
   "metadata": {},
   "source": [
    "\n",
    "## 1. Translation"
   ]
  },
  {
   "cell_type": "markdown",
   "id": "99f7bada",
   "metadata": {},
   "source": [
    "Translation is shifting image in X and Y axis"
   ]
  },
  {
   "cell_type": "code",
   "execution_count": 3,
   "id": "94f07594",
   "metadata": {},
   "outputs": [],
   "source": [
    "def translation(img):\n",
    "    \n",
    "    x_shift = int(input('Shift in X-axis by pixels :'))\n",
    "    y_shift = int(input('Shift in Y-axis by pixels :'))\n",
    "    \n",
    "    translate_matrix = np.float32([[1,0,x_shift], [0,1,y_shift]])\n",
    "    dimensions = (img.shape[1], img.shape[0])\n",
    "    \n",
    "    return cv2.warpAffine(img, translate_matrix, dimensions)"
   ]
  },
  {
   "cell_type": "markdown",
   "id": "ffee82a3",
   "metadata": {},
   "source": [
    "For translation, we define an affine translation matrix as done above. <br>\n",
    "<br>\n",
    "Negative values for x_shift shifts the image to the left <br>\n",
    "Positive values for x_shift shifts the image to the right  <br>\n",
    "Negative values for y_shift shifts the image up  <br>\n",
    "Positive values for y_shift shifts the image down  <br>\n",
    "<br>\n",
    "We can then simply translate the image using the cv2.warpAffine() function. \n",
    "Third argument of the cv2.warpAffine() function is the size of the output image, which should be in the form of (width, height)."
   ]
  },
  {
   "cell_type": "markdown",
   "id": "8ec26152",
   "metadata": {},
   "source": [
    "## 2. Rotation\n"
   ]
  },
  {
   "cell_type": "markdown",
   "id": "bb9bc6c9",
   "metadata": {},
   "source": [
    "Rotates image from centre by an angle specified by the user. "
   ]
  },
  {
   "cell_type": "code",
   "execution_count": 4,
   "id": "f5d68c97",
   "metadata": {},
   "outputs": [],
   "source": [
    "def rotation(img):\n",
    "    \n",
    "    angle = int(input('Enter angle to rotate:'))\n",
    "    (height, width) = img.shape[:2]\n",
    "    rotPoint = (width//2,height//2)\n",
    "    rotMat = cv2.getRotationMatrix2D(rotPoint, angle, 1.0)\n",
    "    dimensions = (width,height)\n",
    "    \n",
    "    return cv2.warpAffine(img, rotMat, dimensions)"
   ]
  },
  {
   "cell_type": "markdown",
   "id": "0519b81d",
   "metadata": {},
   "source": [
    "cv2.getRotationMatrix2D( center, angle, scale ) gets the predefined transformation matrix given below. <br> <br> \\begin{bmatrix} \\alpha &  \\beta & (1- \\alpha )  \\cdot center.x -  \\beta \\cdot center.y \\\\ - \\beta &  \\alpha &  \\beta \\cdot center.x + (1- \\alpha )  \\cdot center.y \\end{bmatrix} <b>where:\n",
    "<b>\n",
    "\\begin{array}{l} \\alpha =  scale \\cdot \\cos \\theta , \\\\ \\beta =  scale \\cdot \\sin \\theta \\end{array}"
   ]
  },
  {
   "cell_type": "markdown",
   "id": "a6509058",
   "metadata": {},
   "source": [
    "## 3. Scaling"
   ]
  },
  {
   "cell_type": "markdown",
   "id": "3942c111",
   "metadata": {},
   "source": [
    "Scaling image"
   ]
  },
  {
   "cell_type": "code",
   "execution_count": 5,
   "id": "6e157571",
   "metadata": {},
   "outputs": [],
   "source": [
    "def scaling(img):\n",
    "    \n",
    "    x_scale = int(input(\"Scale width by \"))\n",
    "    y_scale = int(input(\"Scale height by \"))\n",
    "    \n",
    "    return cv2.resize(img, (0,0), fx=x_scale, fy=y_scale)"
   ]
  },
  {
   "cell_type": "markdown",
   "id": "e23c387d",
   "metadata": {},
   "source": [
    "Argument in cv2.resize have to be width,height. "
   ]
  },
  {
   "cell_type": "markdown",
   "id": "343f00e8",
   "metadata": {},
   "source": [
    "## 4. Cropping"
   ]
  },
  {
   "cell_type": "markdown",
   "id": "1c3d76d7",
   "metadata": {},
   "source": [
    "Cropping image"
   ]
  },
  {
   "cell_type": "code",
   "execution_count": 6,
   "id": "457e23ba",
   "metadata": {},
   "outputs": [],
   "source": [
    "def cropping(img):\n",
    "    \n",
    "    print(img.shape)\n",
    "    x_start= int(input(\"X-axis start: \"))\n",
    "    x_end= int(input(\"X-axis end: \"))\n",
    "    y_start= int(input(\"Y-axis start: \"))\n",
    "    y_end= int(input(\"Y-axis end: \"))\n",
    "    \n",
    "    return img[x_start:x_end, y_start:y_end ]"
   ]
  },
  {
   "cell_type": "markdown",
   "id": "69bbbe63",
   "metadata": {},
   "source": [
    "## 5. Shearing"
   ]
  },
  {
   "cell_type": "markdown",
   "id": "0fbc0030",
   "metadata": {},
   "source": [
    "Shearing image"
   ]
  },
  {
   "cell_type": "code",
   "execution_count": 7,
   "id": "d2d491aa",
   "metadata": {},
   "outputs": [],
   "source": [
    "def shearing(img):\n",
    "    rows, cols, dim = img.shape\n",
    "\n",
    "    M = np.float32([[1, 0.5, 0],\n",
    "                    [0, 1  , 0],\n",
    "                    [0, 0  , 1]])\n",
    "    \n",
    "    sheared_img = cv2.warpPerspective(img,M,(int(cols*1.5),int(rows*1.5)))\n",
    "    \n",
    "    return(sheared_img)"
   ]
  },
  {
   "cell_type": "markdown",
   "id": "d02349b1",
   "metadata": {},
   "source": [
    "## 6. Flipping"
   ]
  },
  {
   "cell_type": "markdown",
   "id": "3f809d95",
   "metadata": {},
   "source": [
    "Flipping image"
   ]
  },
  {
   "cell_type": "code",
   "execution_count": 8,
   "id": "876c21c1",
   "metadata": {},
   "outputs": [],
   "source": [
    "def flipping(img):\n",
    "    print('1. To flip image horizontally')\n",
    "    print('2. To flip image vertically')\n",
    "    print('3. To flip image both horizontally and vertically')\n",
    "    k=int(input())\n",
    "    if(k==3):\n",
    "        k=-1\n",
    "    elif(k==1 or k==2):\n",
    "        k= k-1\n",
    "    \n",
    "    return cv2.flip(img, k)"
   ]
  },
  {
   "cell_type": "markdown",
   "id": "667abd0c",
   "metadata": {},
   "source": [
    "0 means flipping around the x-axis. <br>Positive value (for example, 1) means flipping around y-axis. <br>Negative value (for example, -1) means flipping around both axes."
   ]
  },
  {
   "cell_type": "markdown",
   "id": "0c33e396",
   "metadata": {},
   "source": [
    "## Implementation\n",
    "<br>"
   ]
  },
  {
   "cell_type": "code",
   "execution_count": null,
   "id": "8ee89f19",
   "metadata": {},
   "outputs": [
    {
     "name": "stdout",
     "output_type": "stream",
     "text": [
      "Enter path of the image :E:\\Wallpaper\\two.jpg\n",
      "Choose the operation to be performed on image\n",
      "MENU\n",
      "1. Translation\n",
      "2. Rotation\n",
      "3. Scaling\n",
      "4. Cropping\n",
      "5. Shearing\n",
      "6. Flipping\n",
      "7. Show Original image\n",
      "0. EXIT\n"
     ]
    }
   ],
   "source": [
    "img = input_image()\n",
    "original_image = img\n",
    "choice =1\n",
    "while(choice!=0):\n",
    "    print('Choose the operation to be performed on image')\n",
    "    print('MENU')\n",
    "    print('1. Translation')\n",
    "    print('2. Rotation')\n",
    "    print('3. Scaling')\n",
    "    print('4. Cropping')\n",
    "    print('5. Shearing')\n",
    "    print('6. Flipping')\n",
    "    print('7. Show Original image')\n",
    "    print(\"0. EXIT\")\n",
    "    choice=int(input())\n",
    "    \n",
    "    if(choice == 1):\n",
    "        img= translation(original_image)\n",
    "        cv2.imshow('Translated',img)\n",
    "        cv2.waitKey(0)\n",
    "        cv2.destroyAllWindows()\n",
    "        \n",
    "    elif(choice == 2):\n",
    "        img= rotation(original_image)\n",
    "        cv2.imshow('Rotated',img)\n",
    "        cv2.waitKey(0)\n",
    "        cv2.destroyAllWindows()\n",
    "        \n",
    "    elif(choice == 3):\n",
    "        print(\"Before scaling image size\")\n",
    "        img.shape\n",
    "        img= scaling(original_image)\n",
    "        print(\"After scaling image size\")\n",
    "        img.shape\n",
    "        cv2.imshow('Scaled',img)\n",
    "        cv2.waitKey(0)\n",
    "        cv2.destroyAllWindows()\n",
    "    \n",
    "    elif(choice == 4):\n",
    "        img = cropping(original_image)\n",
    "        cv2.imshow('Cropped',img)\n",
    "        cv2.waitKey(0)\n",
    "        cv2.destroyAllWindows()\n",
    "        \n",
    "    elif(choice == 5):\n",
    "        img = shearing(original_image)\n",
    "        cv2.imshow('Sheared',img)\n",
    "        cv2.waitKey(0)\n",
    "        cv2.destroyAllWindows()\n",
    "        \n",
    "    elif(choice == 6):\n",
    "        img = flipping(original_image)\n",
    "        cv2.imshow('Flipped',img)\n",
    "        cv2.waitKey(0)\n",
    "        cv2.destroyAllWindows()\n",
    "    \n",
    "    elif(choice == 7):\n",
    "        cv2.imshow('Original',original_image)\n",
    "        cv2.waitKey(0)\n",
    "        cv2.destroyAllWindows()\n",
    "        \n",
    "    else:\n",
    "        break"
   ]
  },
  {
   "cell_type": "code",
   "execution_count": null,
   "id": "9e4daa48",
   "metadata": {},
   "outputs": [],
   "source": []
  }
 ],
 "metadata": {
  "kernelspec": {
   "display_name": "Python 3 (ipykernel)",
   "language": "python",
   "name": "python3"
  },
  "language_info": {
   "codemirror_mode": {
    "name": "ipython",
    "version": 3
   },
   "file_extension": ".py",
   "mimetype": "text/x-python",
   "name": "python",
   "nbconvert_exporter": "python",
   "pygments_lexer": "ipython3",
   "version": "3.8.11"
  }
 },
 "nbformat": 4,
 "nbformat_minor": 5
}
