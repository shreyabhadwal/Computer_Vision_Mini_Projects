{
 "cells": [
  {
   "cell_type": "markdown",
   "id": "5054c69b",
   "metadata": {},
   "source": [
    "# Harris Corner Detection"
   ]
  },
  {
   "cell_type": "markdown",
   "id": "9cb3bf74",
   "metadata": {},
   "source": [
    "Importing necessary libraries"
   ]
  },
  {
   "cell_type": "code",
   "execution_count": 1,
   "id": "877e5c52",
   "metadata": {},
   "outputs": [],
   "source": [
    "import numpy as np\n",
    "import cv2\n",
    "import matplotlib.pyplot as plt"
   ]
  },
  {
   "cell_type": "markdown",
   "id": "5faea627",
   "metadata": {},
   "source": [
    "## Input Image"
   ]
  },
  {
   "cell_type": "code",
   "execution_count": 4,
   "id": "1f6bc6e4",
   "metadata": {},
   "outputs": [],
   "source": [
    "def input_image():\n",
    "    image_path = input(\"Enter path of the image :\")\n",
    "    img = cv2.imread(image_path,0)\n",
    "    cv2.imshow('Original', img)\n",
    "    cv2.waitKey(0)\n",
    "    cv2.destroyAllWindows()  \n",
    "    return img"
   ]
  },
  {
   "cell_type": "markdown",
   "id": "bb015486",
   "metadata": {},
   "source": [
    "## Corner detection using Harris Corner Detector"
   ]
  },
  {
   "cell_type": "code",
   "execution_count": 5,
   "id": "474c73bc",
   "metadata": {},
   "outputs": [],
   "source": [
    "def harris_corner(img, neighbourhood):\n",
    "    gray = np.float32(img)\n",
    "    dst = cv2.cornerHarris(gray,neighbourhood,3,0.04)\n",
    "    img[dst > 0.01 * dst.max()] = [255]\n",
    "    cv2.imshow('Corner detected image',img)\n",
    "    cv2.waitKey(0)\n",
    "    cv2.destroyAllWindows()"
   ]
  },
  {
   "cell_type": "markdown",
   "id": "2b511c8e",
   "metadata": {},
   "source": [
    "## Implementation"
   ]
  },
  {
   "cell_type": "code",
   "execution_count": null,
   "id": "0d1ff2b3",
   "metadata": {},
   "outputs": [],
   "source": [
    "img = input_image()\n",
    "neighbourhood = int(input(\"Enter neighbours to examine: \"))\n",
    "harris_corner(img, neighbourhood)"
   ]
  },
  {
   "cell_type": "code",
   "execution_count": null,
   "id": "625aa20c",
   "metadata": {},
   "outputs": [],
   "source": []
  }
 ],
 "metadata": {
  "kernelspec": {
   "display_name": "Python 3 (ipykernel)",
   "language": "python",
   "name": "python3"
  },
  "language_info": {
   "codemirror_mode": {
    "name": "ipython",
    "version": 3
   },
   "file_extension": ".py",
   "mimetype": "text/x-python",
   "name": "python",
   "nbconvert_exporter": "python",
   "pygments_lexer": "ipython3",
   "version": "3.8.11"
  }
 },
 "nbformat": 4,
 "nbformat_minor": 5
}
