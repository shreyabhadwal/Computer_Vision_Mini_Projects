{
 "cells": [
  {
   "cell_type": "markdown",
   "id": "a423dee9",
   "metadata": {},
   "source": [
    "# Edge Detectors"
   ]
  },
  {
   "cell_type": "markdown",
   "id": "5d5ed733",
   "metadata": {},
   "source": [
    "Importing necessary libraries"
   ]
  },
  {
   "cell_type": "code",
   "execution_count": 16,
   "id": "adb2e1c0",
   "metadata": {},
   "outputs": [],
   "source": [
    "import numpy as np\n",
    "import cv2"
   ]
  },
  {
   "cell_type": "markdown",
   "id": "c0019390",
   "metadata": {},
   "source": [
    "## Input Image"
   ]
  },
  {
   "cell_type": "code",
   "execution_count": 17,
   "id": "0d0050ee",
   "metadata": {},
   "outputs": [],
   "source": [
    "def input_image():\n",
    "    image_path = input(\"Enter path of the image :\")\n",
    "    img = cv2.imread(image_path, 0)\n",
    "    cv2.imshow('Original', img)\n",
    "    cv2.waitKey(0)\n",
    "    cv2.destroyAllWindows()  \n",
    "    return img"
   ]
  },
  {
   "cell_type": "markdown",
   "id": "92183a02",
   "metadata": {},
   "source": [
    "##  Prewitt operator"
   ]
  },
  {
   "cell_type": "markdown",
   "id": "c095af2a",
   "metadata": {},
   "source": [
    "Edges are calculated by using difference between corresponding pixel intensities of an image"
   ]
  },
  {
   "cell_type": "code",
   "execution_count": 18,
   "id": "8d55ecdf",
   "metadata": {},
   "outputs": [],
   "source": [
    "def prewitt(img):\n",
    "    \n",
    "    kernelx = np.array([[1,1,1],[0,0,0],[-1,-1,-1]])\n",
    "    kernely = np.array([[-1,0,1],[-1,0,1],[-1,0,1]])\n",
    "    \n",
    "    img2= cv2.GaussianBlur(img,(5,5),0)#gaussian Image\n",
    "    \n",
    "    img_prewittx = cv2.filter2D(img2, -1, kernelx)#Horizontal \n",
    "    img_prewitty = cv2.filter2D(img2, -1, kernely)#Vertical\n",
    "    img_prewitt = img_prewittx + img_prewitty#Horizontal & Vertical\n",
    "    cv2.imshow(\"img_prewittx\",img_prewittx)\n",
    "    cv2.imshow(\"img_prewitty\",img_prewitty)\n",
    "    cv2.imshow(\"img_prewitt\",img_prewitt)\n",
    "   \n",
    "    cv2.waitKey(0)\n",
    "    cv2.destroyAllWindows()"
   ]
  },
  {
   "cell_type": "markdown",
   "id": "0fdcbcef",
   "metadata": {},
   "source": [
    "## Sobel Operator"
   ]
  },
  {
   "cell_type": "markdown",
   "id": "3d160244",
   "metadata": {},
   "source": [
    "The Sobel Operator detects edges that are marked by sudden changes in pixel intensity.\n",
    "We also blur the image, using the GaussianBlur() function. This is done  to reduce the noise in the image.\n"
   ]
  },
  {
   "cell_type": "code",
   "execution_count": 19,
   "id": "5b966edd",
   "metadata": {},
   "outputs": [],
   "source": [
    "def sobel(img):\n",
    "    \n",
    "    img2= cv2.GaussianBlur(img,(5,5),0)#gaussian Image\n",
    "    \n",
    "    img_sobelx = cv2.Sobel(img2,cv2.CV_8U,0,1,ksize=3)\n",
    "    img_sobely = cv2.Sobel(img2,cv2.CV_8U,1,0,ksize=3)\n",
    "    img_sobel = img_sobelx + img_sobely\n",
    "    cv2.imshow(\"Horizontal\",img_sobelx)\n",
    "    cv2.imshow(\"Vertical\",img_sobely)\n",
    "    cv2.imshow(\"All Edges\",img_sobel)\n",
    "\n",
    "    cv2.waitKey(0)\n",
    "    cv2.destroyAllWindows()"
   ]
  },
  {
   "cell_type": "markdown",
   "id": "91f6675d",
   "metadata": {},
   "source": [
    "## Roberts Operator"
   ]
  },
  {
   "cell_type": "markdown",
   "id": "040b0366",
   "metadata": {},
   "source": [
    "This is used to detect diagonal edges. The operator is made up of a pair of 2×2 convolution masks."
   ]
  },
  {
   "cell_type": "code",
   "execution_count": 20,
   "id": "8dc3992f",
   "metadata": {},
   "outputs": [],
   "source": [
    "def robert(img):\n",
    "    kernel_Roberts_x = np.array([[1, 0],[0, -1]])\n",
    "    kernel_Roberts_y = np.array([[0, -1],[1, 0]])\n",
    "    \n",
    "    img2= cv2.GaussianBlur(img,(5,5),0)#gaussian Image\n",
    "    \n",
    "    x = cv2.filter2D(img2, cv2.CV_16S, kernel_Roberts_x)\n",
    "    y = cv2.filter2D(img2, cv2.CV_16S, kernel_Roberts_y)\n",
    "    absX = cv2.convertScaleAbs(x)\n",
    "    absY = cv2.convertScaleAbs(y)\n",
    "    roberts = cv2.addWeighted(absX, 0.5, absY, 0.5, 0)\n",
    "    cv2.imshow(\"roberts\",roberts)\n",
    "\n",
    "    cv2.waitKey(0)\n",
    "    cv2.destroyAllWindows()"
   ]
  },
  {
   "cell_type": "markdown",
   "id": "4f6e8943",
   "metadata": {},
   "source": [
    "## Prewitt Compass Operator"
   ]
  },
  {
   "cell_type": "markdown",
   "id": "7b71a905",
   "metadata": {},
   "source": [
    "When using compass edge detection the image is convolved with a set of (in general 8) convolution kernels, each of which is sensitive to edges in a different orientation."
   ]
  },
  {
   "cell_type": "code",
   "execution_count": 21,
   "id": "3f8a54cb",
   "metadata": {},
   "outputs": [],
   "source": [
    "def prewittcompass(img):\n",
    "    \n",
    "    #Masks\n",
    "    prewitt1 = np.array ([[-1,-1,-1],[1,-2,1],[1,1,1]])\n",
    "    prewitt2 = np.array ([[-1,-1,1],[-1,-2,1],[1,1,1]])\n",
    "    prewitt3 = np.array ([[-1,1,1],[-1,-2,1],[-1,1,1]])\n",
    "    prewitt4 = np.array ([[1,1,1],[-1,-2,1],[-1,-1,1]])\n",
    "    prewitt5 = np.array ([[1,1,1],[1,-2,1],[-1,-1,-1]])\n",
    "    prewitt6 = np.array ([[1,1,1],[1,-2,-1],[1,-1,-1]])\n",
    "    prewitt7 = np.array ([[1,1,-1],[1,-2,-1],[1,1,-1]])\n",
    "    prewitt8 = np.array ([[1,-1,-1],[1,-2,-1],[1,1,1]])\n",
    "    \n",
    "    img2= cv2.GaussianBlur(img,(5,5),0)#gaussian Image\n",
    "    \n",
    "    #Applying All Prewitt filter on the image\n",
    "    img_prewitt1 = cv2.filter2D(img2, -1, prewitt1)\n",
    "    img_prewitt2 = cv2.filter2D(img2, -1, prewitt2)\n",
    "    img_prewitt3 = cv2.filter2D(img2, -1, prewitt3)\n",
    "    img_prewitt4 = cv2.filter2D(img2, -1, prewitt4)\n",
    "    img_prewitt5 = cv2.filter2D(img2, -1, prewitt5)\n",
    "    img_prewitt6 = cv2.filter2D(img2, -1, prewitt6)\n",
    "    img_prewitt7 = cv2.filter2D(img2, -1, prewitt7)\n",
    "    img_prewitt8 = cv2.filter2D(img2, -1, prewitt8)\n",
    "\n",
    "    #Adding all the elements together to form an image\n",
    "    prewitt_compass = img_prewitt1 + img_prewitt2 + img_prewitt3 + img_prewitt4 + img_prewitt5 + img_prewitt6 + img_prewitt7 + img_prewitt8\n",
    "    cv2.imshow(\"prewitt_compass\",prewitt_compass)\n",
    "            \n",
    "    cv2.waitKey(0)\n",
    "    cv2.destroyAllWindows()"
   ]
  },
  {
   "cell_type": "markdown",
   "id": "7723997c",
   "metadata": {},
   "source": [
    "## Sobel Compass Operator"
   ]
  },
  {
   "cell_type": "code",
   "execution_count": 22,
   "id": "f707db24",
   "metadata": {},
   "outputs": [],
   "source": [
    "def sobelcompass(img):\n",
    "    \n",
    "    sobel1 = np.array([[-1,-2,-1],[0,0,0],[1,2,1]])\n",
    "    sobel1 = np.array([[-1,-2,-1],[0,0,0],[1,2,1]])\n",
    "    sobel2 = np.array([[-2,-1,0],[-1,0,1],[0,1,2]])\n",
    "    sobel3 = np.array([[-1,0,1],[-2,0,2],[-1,0,1]])\n",
    "    sobel4 = np.array([[0,1,2],[-1,0,1],[-2,-1,0]])\n",
    "    sobel5 = np.array([[1,2,1],[0,0,0],[-1,-2,-1]])\n",
    "    sobel6 = np.array([[2,1,0],[1,0,-1],[0,-1,-2]])\n",
    "    sobel7 = np.array([[1,0,-1],[2,0,-2],[1,0,-1]])\n",
    "    sobel8 = np.array([[0,-1,-2],[1,0,-1],[2,1,0]])\n",
    "    \n",
    "    img2= cv2.GaussianBlur(img,(5,5),0)#gaussian Image\n",
    "    \n",
    "    #Applying All Sobel filter on the image\n",
    "    img_sobel1 = cv2.Sobel(img2,cv2.CV_8U,1,0,ksize=3)\n",
    "    img_sobel2 = cv2.Sobel(img2,cv2.CV_8U,0,1,ksize=3)\n",
    "    img_sobel3 = cv2.Sobel(img2,cv2.CV_8U,1,0,ksize=3)\n",
    "    img_sobel4 = cv2.Sobel(img2,cv2.CV_8U,0,1,ksize=3)\n",
    "    img_sobel5 = cv2.Sobel(img2,cv2.CV_8U,1,0,ksize=3)\n",
    "    img_sobel6 = cv2.Sobel(img2,cv2.CV_8U,0,1,ksize=3)\n",
    "    img_sobel7 = cv2.Sobel(img2,cv2.CV_8U,1,0,ksize=3)\n",
    "    img_sobel8 = cv2.Sobel(img2,cv2.CV_8U,0,1,ksize=3)\n",
    "    #Adding all the elements together to form an image\n",
    "    sobel_compass = img_sobel1 + img_sobel2 + img_sobel3 + img_sobel4 + img_sobel5 + img_sobel6 + img_sobel7 + img_sobel8\n",
    "    cv2.imshow(\"sobel_compass\",sobel_compass)\n",
    "          \n",
    "    cv2.waitKey(0)\n",
    "    cv2.destroyAllWindows()"
   ]
  },
  {
   "cell_type": "markdown",
   "id": "ce72ee34",
   "metadata": {},
   "source": [
    "## Implementation"
   ]
  },
  {
   "cell_type": "code",
   "execution_count": 23,
   "id": "3355e9b8",
   "metadata": {},
   "outputs": [
    {
     "name": "stdout",
     "output_type": "stream",
     "text": [
      "Menu\n",
      "1. Prewitt\n",
      "2. Sobel\n",
      "3. Robert\n",
      "4. Prewitt Compass\n",
      "5. Sobel Compass\n",
      "6. Exit\n",
      "Enter the Choice:2\n",
      "Enter path of the image :E:\\Wallpaper\\two.jpg\n"
     ]
    },
    {
     "ename": "error",
     "evalue": "OpenCV(4.5.4) D:\\a\\opencv-python\\opencv-python\\opencv\\modules\\highgui\\src\\window.cpp:1274: error: (-2:Unspecified error) The function is not implemented. Rebuild the library with Windows, GTK+ 2.x or Cocoa support. If you are on Ubuntu or Debian, install libgtk2.0-dev and pkg-config, then re-run cmake or configure script in function 'cvShowImage'\n",
     "output_type": "error",
     "traceback": [
      "\u001b[1;31m---------------------------------------------------------------------------\u001b[0m",
      "\u001b[1;31merror\u001b[0m                                     Traceback (most recent call last)",
      "\u001b[1;32m~\\AppData\\Local\\Temp/ipykernel_19024/2574622837.py\u001b[0m in \u001b[0;36m<module>\u001b[1;34m\u001b[0m\n\u001b[0;32m      8\u001b[0m     \u001b[0mprint\u001b[0m\u001b[1;33m(\u001b[0m\u001b[1;34m'6. Exit'\u001b[0m\u001b[1;33m)\u001b[0m\u001b[1;33m\u001b[0m\u001b[1;33m\u001b[0m\u001b[0m\n\u001b[0;32m      9\u001b[0m     \u001b[0mchoice\u001b[0m \u001b[1;33m=\u001b[0m \u001b[0mint\u001b[0m\u001b[1;33m(\u001b[0m\u001b[0minput\u001b[0m\u001b[1;33m(\u001b[0m\u001b[1;34m\"Enter the Choice:\"\u001b[0m\u001b[1;33m)\u001b[0m\u001b[1;33m)\u001b[0m\u001b[1;33m\u001b[0m\u001b[1;33m\u001b[0m\u001b[0m\n\u001b[1;32m---> 10\u001b[1;33m     \u001b[0mimg\u001b[0m \u001b[1;33m=\u001b[0m \u001b[0minput_image\u001b[0m\u001b[1;33m(\u001b[0m\u001b[1;33m)\u001b[0m\u001b[1;33m\u001b[0m\u001b[1;33m\u001b[0m\u001b[0m\n\u001b[0m\u001b[0;32m     11\u001b[0m     \u001b[1;32mif\u001b[0m \u001b[0mchoice\u001b[0m \u001b[1;33m==\u001b[0m \u001b[1;36m1\u001b[0m\u001b[1;33m:\u001b[0m\u001b[1;33m\u001b[0m\u001b[1;33m\u001b[0m\u001b[0m\n\u001b[0;32m     12\u001b[0m         \u001b[0mprewitt\u001b[0m\u001b[1;33m(\u001b[0m\u001b[0mimg\u001b[0m\u001b[1;33m)\u001b[0m\u001b[1;33m\u001b[0m\u001b[1;33m\u001b[0m\u001b[0m\n",
      "\u001b[1;32m~\\AppData\\Local\\Temp/ipykernel_19024/2383857599.py\u001b[0m in \u001b[0;36minput_image\u001b[1;34m()\u001b[0m\n\u001b[0;32m      2\u001b[0m     \u001b[0mimage_path\u001b[0m \u001b[1;33m=\u001b[0m \u001b[0minput\u001b[0m\u001b[1;33m(\u001b[0m\u001b[1;34m\"Enter path of the image :\"\u001b[0m\u001b[1;33m)\u001b[0m\u001b[1;33m\u001b[0m\u001b[1;33m\u001b[0m\u001b[0m\n\u001b[0;32m      3\u001b[0m     \u001b[0mimg\u001b[0m \u001b[1;33m=\u001b[0m \u001b[0mcv2\u001b[0m\u001b[1;33m.\u001b[0m\u001b[0mimread\u001b[0m\u001b[1;33m(\u001b[0m\u001b[0mimage_path\u001b[0m\u001b[1;33m,\u001b[0m \u001b[1;36m0\u001b[0m\u001b[1;33m)\u001b[0m\u001b[1;33m\u001b[0m\u001b[1;33m\u001b[0m\u001b[0m\n\u001b[1;32m----> 4\u001b[1;33m     \u001b[0mcv2\u001b[0m\u001b[1;33m.\u001b[0m\u001b[0mimshow\u001b[0m\u001b[1;33m(\u001b[0m\u001b[1;34m'Original'\u001b[0m\u001b[1;33m,\u001b[0m \u001b[0mimg\u001b[0m\u001b[1;33m)\u001b[0m\u001b[1;33m\u001b[0m\u001b[1;33m\u001b[0m\u001b[0m\n\u001b[0m\u001b[0;32m      5\u001b[0m     \u001b[0mcv2\u001b[0m\u001b[1;33m.\u001b[0m\u001b[0mwaitKey\u001b[0m\u001b[1;33m(\u001b[0m\u001b[1;36m0\u001b[0m\u001b[1;33m)\u001b[0m\u001b[1;33m\u001b[0m\u001b[1;33m\u001b[0m\u001b[0m\n\u001b[0;32m      6\u001b[0m     \u001b[0mcv2\u001b[0m\u001b[1;33m.\u001b[0m\u001b[0mdestroyAllWindows\u001b[0m\u001b[1;33m(\u001b[0m\u001b[1;33m)\u001b[0m\u001b[1;33m\u001b[0m\u001b[1;33m\u001b[0m\u001b[0m\n",
      "\u001b[1;31merror\u001b[0m: OpenCV(4.5.4) D:\\a\\opencv-python\\opencv-python\\opencv\\modules\\highgui\\src\\window.cpp:1274: error: (-2:Unspecified error) The function is not implemented. Rebuild the library with Windows, GTK+ 2.x or Cocoa support. If you are on Ubuntu or Debian, install libgtk2.0-dev and pkg-config, then re-run cmake or configure script in function 'cvShowImage'\n"
     ]
    }
   ],
   "source": [
    "while True:\n",
    "    print('Menu')\n",
    "    print('1. Prewitt')\n",
    "    print('2. Sobel')\n",
    "    print('3. Robert')\n",
    "    print('4. Prewitt Compass')\n",
    "    print('5. Sobel Compass')\n",
    "    print('6. Exit')\n",
    "    choice = int(input(\"Enter the Choice:\"))\n",
    "    img = input_image()\n",
    "    if choice == 1:\n",
    "        prewitt(img)\n",
    "        \n",
    "    elif choice == 2:\n",
    "        sobel(img)\n",
    "        \n",
    "    elif choice == 3:\n",
    "        robert(img)\n",
    "    \n",
    "    elif choice == 4:\n",
    "        prewittcompass(img)\n",
    "    \n",
    "    elif choice == 5:\n",
    "        sobelcompass(img)\n",
    "            \n",
    "    elif choice == 6:\n",
    "        break\n",
    "        \n",
    "    else:\n",
    "        print('Invalid choice')"
   ]
  },
  {
   "cell_type": "code",
   "execution_count": null,
   "id": "bd0a5d13",
   "metadata": {},
   "outputs": [],
   "source": []
  }
 ],
 "metadata": {
  "kernelspec": {
   "display_name": "Python 3 (ipykernel)",
   "language": "python",
   "name": "python3"
  },
  "language_info": {
   "codemirror_mode": {
    "name": "ipython",
    "version": 3
   },
   "file_extension": ".py",
   "mimetype": "text/x-python",
   "name": "python",
   "nbconvert_exporter": "python",
   "pygments_lexer": "ipython3",
   "version": "3.8.11"
  }
 },
 "nbformat": 4,
 "nbformat_minor": 5
}
