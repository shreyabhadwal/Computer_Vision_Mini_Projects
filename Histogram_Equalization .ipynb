{
 "cells": [
  {
   "cell_type": "markdown",
   "id": "f5ae7eb7",
   "metadata": {},
   "source": [
    "# Histogram Equilization \n",
    "<br>"
   ]
  },
  {
   "cell_type": "code",
   "execution_count": null,
   "id": "ef464aa2",
   "metadata": {},
   "outputs": [],
   "source": [
    "import cv2\n",
    "import numpy as np\n",
    "import matplotlib.pyplot as plt"
   ]
  },
  {
   "cell_type": "markdown",
   "id": "c5a28f1d",
   "metadata": {},
   "source": [
    "## 1. Plotting an Histogram"
   ]
  },
  {
   "cell_type": "code",
   "execution_count": null,
   "id": "b3661c7e",
   "metadata": {},
   "outputs": [],
   "source": [
    "def plot_histogram(img):\n",
    "    hist = cv2.calcHist([img],[0],None,[256],[0,256])\n",
    "    plt.figure(figsize = (10,5))\n",
    "    plt.title('Grayscale Histogram')\n",
    "    plt.xlabel('Bins')\n",
    "    plt.ylabel('No. of pixels')\n",
    "    plt.plot(hist)\n",
    "    plt.xlim([0,256])\n",
    "    plt.show()"
   ]
  },
  {
   "cell_type": "markdown",
   "id": "7fe293f5",
   "metadata": {},
   "source": [
    "## 2. Linear Stretching "
   ]
  },
  {
   "cell_type": "code",
   "execution_count": null,
   "id": "87f5fb0d",
   "metadata": {},
   "outputs": [],
   "source": [
    "def linear_stretch(img):\n",
    "    \n",
    "    #Stretching the histogram\n",
    "    stretch_image = np.zeros((img.shape[0],img.shape[1]),dtype = 'uint8')\n",
    "    min = np.min(img)\n",
    "    max = np.max(img)\n",
    "\n",
    "    for i in range(img.shape[0]):\n",
    "        for j in range(img.shape[1]):\n",
    "            stretch_image[i,j] = 255*(img[i,j]-min)/(max-min)\n",
    "    \n",
    "    # Claculating histogram for the stretched image and plotting it\n",
    "    hist = cv2.calcHist([stretch_image],[0],None,[256],[0,256])\n",
    "    plt.figure(figsize = (10,5))\n",
    "    plt.title('Histogram')\n",
    "    plt.xlabel('Bins')\n",
    "    plt.ylabel('No. of pixels')\n",
    "    plt.plot(hist)\n",
    "    plt.xlim([0,256])\n",
    "    plt.show()\n",
    "    \n",
    "    #Displaying the image\n",
    "    cv2.imshow('Original image', img)\n",
    "    cv2.imshow('Applying linear stretching',stretch_image)\n",
    "    cv2.waitKey(0)\n",
    "    cv2.destroyAllWindows()"
   ]
  },
  {
   "cell_type": "markdown",
   "id": "cd64dc6b",
   "metadata": {},
   "source": [
    "## 3. Histogram Equalization"
   ]
  },
  {
   "cell_type": "code",
   "execution_count": null,
   "id": "a5732ea9",
   "metadata": {},
   "outputs": [],
   "source": [
    "def his_equalization(img):\n",
    "    equ = cv2.equalizeHist(img)\n",
    "    eq_hist = cv2.calcHist([equ],[0],None,[256],[0,256])\n",
    "    plt.figure(figsize = (10,5))\n",
    "    plt.title('Equalized Histogram')\n",
    "    plt.xlabel('Bins')\n",
    "    plt.ylabel('No. of pixels')\n",
    "    plt.plot(eq_hist)\n",
    "    plt.xlim([0,256])\n",
    "    plt.show()\n",
    "    \n",
    "    #Displaying the images\n",
    "    cv2.imshow('Original image', img)\n",
    "    cv2.imshow('Histogram equalized image', equ)\n",
    "    cv2.waitKey(0)\n",
    "    cv2.destroyAllWindows()"
   ]
  },
  {
   "cell_type": "markdown",
   "id": "24699852",
   "metadata": {},
   "source": [
    "## Implementation "
   ]
  },
  {
   "cell_type": "code",
   "execution_count": null,
   "id": "c44d2096",
   "metadata": {},
   "outputs": [],
   "source": [
    "print(\"Histogram Equalization on image\")\n",
    "print(\"Enter path of the image: \")\n",
    "path1 = input()\n",
    "image = cv2.imread(path1,0)\n",
    "while True:\n",
    "    print(\"1. Plot Histogram\")\n",
    "    print(\"2. Linear Stretching\")\n",
    "    print(\"3. Histogram Equalization\")\n",
    "    print(\"4. Exit\")\n",
    "    print(\"Enter your choice:\")\n",
    "    n = int(input())\n",
    "    if n==1:\n",
    "        plot_histogram(image)\n",
    "    elif n==2:\n",
    "        linear_stretch(image)\n",
    "    elif n==3:\n",
    "        his_equalization(image)\n",
    "    elif n==4:\n",
    "        break\n",
    "    else:\n",
    "        print(\"Oops! Wrong choice\")"
   ]
  }
 ],
 "metadata": {
  "kernelspec": {
   "display_name": "Python 3 (ipykernel)",
   "language": "python",
   "name": "python3"
  },
  "language_info": {
   "codemirror_mode": {
    "name": "ipython",
    "version": 3
   },
   "file_extension": ".py",
   "mimetype": "text/x-python",
   "name": "python",
   "nbconvert_exporter": "python",
   "pygments_lexer": "ipython3",
   "version": "3.8.11"
  }
 },
 "nbformat": 4,
 "nbformat_minor": 5
}
