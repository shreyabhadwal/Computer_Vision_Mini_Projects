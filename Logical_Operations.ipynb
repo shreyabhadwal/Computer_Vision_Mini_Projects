{
 "cells": [
  {
   "cell_type": "markdown",
   "id": "aafa590a",
   "metadata": {},
   "source": [
    "# Logical Operations\n",
    "<br>"
   ]
  },
  {
   "cell_type": "code",
   "execution_count": 30,
   "id": "412fff76",
   "metadata": {},
   "outputs": [],
   "source": [
    "import numpy as np\n",
    "import cv2"
   ]
  },
  {
   "cell_type": "markdown",
   "id": "61815c7b",
   "metadata": {},
   "source": [
    "## Image Generation"
   ]
  },
  {
   "cell_type": "markdown",
   "id": "27e7d0d3",
   "metadata": {},
   "source": [
    "Creating a rectangle and a circle to perform logical operations on"
   ]
  },
  {
   "cell_type": "code",
   "execution_count": 31,
   "id": "b9922c6a",
   "metadata": {},
   "outputs": [],
   "source": [
    "def input_images():\n",
    "    \n",
    "    path1 = input(\"Provide the path of the image1: \")\n",
    "    path2 = input(\"Provide the path of the image2: \")\n",
    "    img1 = cv2.imread(path1, 0)\n",
    "    img2 = cv2.imread(path2, 0)\n",
    "    cv2.imshow('Image1',img1)\n",
    "    cv2.imshow('Image2',img2)\n",
    "    cv2.waitKey(0)\n",
    "    cv2.destroyAllWindows()\n",
    "    \n",
    "    return img1, img2"
   ]
  },
  {
   "cell_type": "markdown",
   "id": "5544a13e",
   "metadata": {},
   "source": [
    "\n",
    "## 1. Bitwise AND"
   ]
  },
  {
   "cell_type": "code",
   "execution_count": 32,
   "id": "5ea7ee73",
   "metadata": {},
   "outputs": [],
   "source": [
    "def logicalAnd(img1,img2):\n",
    "    \n",
    "    bitwiseAnd = cv2.bitwise_and(img1, img2)\n",
    "    cv2.imshow(\"AND\", bitwiseAnd)\n",
    "    cv2.waitKey(0)"
   ]
  },
  {
   "cell_type": "markdown",
   "id": "a0806df3",
   "metadata": {},
   "source": [
    "## 2. Bitwise OR"
   ]
  },
  {
   "cell_type": "code",
   "execution_count": 33,
   "id": "7be7d1b0",
   "metadata": {},
   "outputs": [],
   "source": [
    "def logicalOr(img1, img2):\n",
    "    \n",
    "    bitwiseOr = cv2.bitwise_or(img1, img2)\n",
    "    cv2.imshow(\"OR\", bitwiseOr)\n",
    "    cv2.waitKey(0)"
   ]
  },
  {
   "cell_type": "markdown",
   "id": "eb0421cb",
   "metadata": {},
   "source": [
    "## 3. Bitwise XOR"
   ]
  },
  {
   "cell_type": "code",
   "execution_count": 34,
   "id": "f2e771cc",
   "metadata": {},
   "outputs": [],
   "source": [
    "def logicalXor(img1,img2):\n",
    "    \n",
    "    bitwiseXor = cv2.bitwise_xor(img1, img2)\n",
    "    cv2.imshow(\"XOR\", bitwiseXor)\n",
    "    cv2.waitKey(0)"
   ]
  },
  {
   "cell_type": "markdown",
   "id": "c94fc7d2",
   "metadata": {},
   "source": [
    "## 4. Bitwise NOT"
   ]
  },
  {
   "cell_type": "code",
   "execution_count": 35,
   "id": "5f1c101c",
   "metadata": {},
   "outputs": [],
   "source": [
    "def logicalNot(img1, img2):\n",
    "    \n",
    "    print(\"1. Bitwise NOT on Image 1\")\n",
    "    print(\"2. Bitwise NOT on Image 2\")\n",
    "    choose = int(input())\n",
    "    \n",
    "    if(choose==1):\n",
    "        bitwiseNot = cv2.bitwise_not(img1)\n",
    "        cv2.imshow(\"NOT\", bitwiseNot)\n",
    "        cv2.waitKey(0)\n",
    "    \n",
    "    if(choose==2):\n",
    "        bitwiseNot = cv2.bitwise_not(img2)\n",
    "        cv2.imshow(\"NOT\", bitwiseNot)\n",
    "        cv2.waitKey(0)\n",
    "        "
   ]
  },
  {
   "cell_type": "markdown",
   "id": "aea4ec2d",
   "metadata": {},
   "source": [
    "## Implementation"
   ]
  },
  {
   "cell_type": "code",
   "execution_count": 36,
   "id": "a8f52c74",
   "metadata": {},
   "outputs": [
    {
     "name": "stdout",
     "output_type": "stream",
     "text": [
      "Provide the path of the image1: C:\\Users\\SHREYA\\Data\\Birds\\train\\AMERICAN GOLDFINCH\\001.jpg\n",
      "Provide the path of the image2: C:\\Users\\SHREYA\\Data\\Birds\\train\\AMERICAN GOLDFINCH\\005.jpg\n",
      "Choose the operation to be performed on image\n",
      "MENU\n",
      "1. Bitwise AND\n",
      "2. Bitwise OR\n",
      "3. Bitwise XOR\n",
      "4. Bitwise NOT\n",
      "0. EXIT\n",
      "1\n",
      "Choose the operation to be performed on image\n",
      "MENU\n",
      "1. Bitwise AND\n",
      "2. Bitwise OR\n",
      "3. Bitwise XOR\n",
      "4. Bitwise NOT\n",
      "0. EXIT\n",
      "2\n",
      "Choose the operation to be performed on image\n",
      "MENU\n",
      "1. Bitwise AND\n",
      "2. Bitwise OR\n",
      "3. Bitwise XOR\n",
      "4. Bitwise NOT\n",
      "0. EXIT\n",
      "3\n",
      "Choose the operation to be performed on image\n",
      "MENU\n",
      "1. Bitwise AND\n",
      "2. Bitwise OR\n",
      "3. Bitwise XOR\n",
      "4. Bitwise NOT\n",
      "0. EXIT\n",
      "4\n",
      "1. Bitwise NOT on Image 1\n",
      "2. Bitwise NOT on Image 2\n",
      "1\n",
      "Choose the operation to be performed on image\n",
      "MENU\n",
      "1. Bitwise AND\n",
      "2. Bitwise OR\n",
      "3. Bitwise XOR\n",
      "4. Bitwise NOT\n",
      "0. EXIT\n",
      "2\n",
      "Choose the operation to be performed on image\n",
      "MENU\n",
      "1. Bitwise AND\n",
      "2. Bitwise OR\n",
      "3. Bitwise XOR\n",
      "4. Bitwise NOT\n",
      "0. EXIT\n",
      "0\n"
     ]
    }
   ],
   "source": [
    "img1,img2 = input_images()\n",
    "original_image1,original_image2 = img1,img2\n",
    "choice =1\n",
    "while(choice!=0):\n",
    "    print('Choose the operation to be performed on image')\n",
    "    print('MENU')\n",
    "    print('1. Bitwise AND')\n",
    "    print('2. Bitwise OR')\n",
    "    print('3. Bitwise XOR')\n",
    "    print('4. Bitwise NOT')\n",
    "    print(\"0. EXIT\")\n",
    "    choice=int(input())\n",
    "    \n",
    "    if(choice == 1):\n",
    "        logicalAnd(original_image1,original_image2)\n",
    "        \n",
    "    elif(choice == 2):\n",
    "        logicalOr(original_image1,original_image2)\n",
    "          \n",
    "    elif(choice == 3):\n",
    "        logicalXor(original_image1,original_image2)\n",
    "    \n",
    "    elif(choice == 4):\n",
    "        logicalNot(original_image1,original_image2)\n",
    "       \n",
    "    else:\n",
    "        break"
   ]
  },
  {
   "cell_type": "code",
   "execution_count": 28,
   "id": "1711ecc9",
   "metadata": {},
   "outputs": [
    {
     "data": {
      "text/plain": [
       "-1"
      ]
     },
     "execution_count": 28,
     "metadata": {},
     "output_type": "execute_result"
    }
   ],
   "source": [
    "bitwiseAnd = np.bitwise_and(rectangle, circle,dtype='uint8')\n",
    "#print(bitwiseAnd)\n",
    "cv2.imshow(\"AND\", bitwiseAnd)\n",
    "cv2.waitKey(0)"
   ]
  },
  {
   "cell_type": "code",
   "execution_count": null,
   "id": "db1b4a2a",
   "metadata": {},
   "outputs": [],
   "source": []
  }
 ],
 "metadata": {
  "kernelspec": {
   "display_name": "Python 3 (ipykernel)",
   "language": "python",
   "name": "python3"
  },
  "language_info": {
   "codemirror_mode": {
    "name": "ipython",
    "version": 3
   },
   "file_extension": ".py",
   "mimetype": "text/x-python",
   "name": "python",
   "nbconvert_exporter": "python",
   "pygments_lexer": "ipython3",
   "version": "3.8.11"
  }
 },
 "nbformat": 4,
 "nbformat_minor": 5
}
