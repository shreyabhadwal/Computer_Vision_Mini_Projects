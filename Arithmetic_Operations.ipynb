{
 "cells": [
  {
   "cell_type": "markdown",
   "id": "9ef8ea4e",
   "metadata": {},
   "source": [
    "# Arithmetic Operations"
   ]
  },
  {
   "cell_type": "code",
   "execution_count": 2,
   "id": "281158c1",
   "metadata": {},
   "outputs": [],
   "source": [
    "import numpy as np\n",
    "import cv2"
   ]
  },
  {
   "cell_type": "markdown",
   "id": "2aa18b7b",
   "metadata": {},
   "source": [
    "## Input Images"
   ]
  },
  {
   "cell_type": "markdown",
   "id": "0f7c0c3b",
   "metadata": {},
   "source": [
    "Taking images as input"
   ]
  },
  {
   "cell_type": "code",
   "execution_count": 3,
   "id": "991efe2f",
   "metadata": {},
   "outputs": [],
   "source": [
    "def input_images():\n",
    "    \n",
    "    path1 = input(\"Provide the path of the image1: \")\n",
    "    path2 = input(\"Provide the path of the image2: \")\n",
    "    img1 = cv2.imread(path1, 0)\n",
    "    img2 = cv2.imread(path2, 0)\n",
    "    cv2.imshow('Image1',img1)\n",
    "    cv2.imshow('Image2',img2)\n",
    "    cv2.waitKey(0)\n",
    "    cv2.destroyAllWindows()\n",
    "    \n",
    "    return img1, img2"
   ]
  },
  {
   "cell_type": "markdown",
   "id": "d76ebba0",
   "metadata": {},
   "source": [
    "## Addition "
   ]
  },
  {
   "cell_type": "code",
   "execution_count": 4,
   "id": "8c2740f1",
   "metadata": {},
   "outputs": [],
   "source": [
    "def add(img1, img2):\n",
    "    \n",
    "    addition = cv2.add(img1, img2)\n",
    "    cv2.imshow('Addition', addition)\n",
    "    cv2.waitKey(0)\n",
    "    cv2.destroyAllWindows()"
   ]
  },
  {
   "cell_type": "markdown",
   "id": "a90639c8",
   "metadata": {},
   "source": [
    "## Subtraction "
   ]
  },
  {
   "cell_type": "code",
   "execution_count": 5,
   "id": "b923cdee",
   "metadata": {},
   "outputs": [],
   "source": [
    "def sub(img1, img2):\n",
    "    \n",
    "    Subtraction = cv2.subtract(img1, img2)\n",
    "    cv2.imshow('Subtraction', Subtraction)\n",
    "    cv2.waitKey(0)\n",
    "    cv2.destroyAllWindows()"
   ]
  },
  {
   "cell_type": "markdown",
   "id": "1e760fd1",
   "metadata": {},
   "source": [
    "## Multiplication  "
   ]
  },
  {
   "cell_type": "code",
   "execution_count": 6,
   "id": "18d583a1",
   "metadata": {},
   "outputs": [],
   "source": [
    "def mul(img1, img2):\n",
    "    \n",
    "    multiplication = cv2.multiply(img1, img2)\n",
    "    cv2.imshow('Multiplication', multiplication)\n",
    "    cv2.waitKey(0)\n",
    "    cv2.destroyAllWindows()"
   ]
  },
  {
   "cell_type": "markdown",
   "id": "4f6e8943",
   "metadata": {},
   "source": [
    "## Division "
   ]
  },
  {
   "cell_type": "code",
   "execution_count": 7,
   "id": "488c4744",
   "metadata": {},
   "outputs": [],
   "source": [
    "def div(img1, img2):\n",
    "    \n",
    "    division = cv2.divide(img1, img2)\n",
    "    cv2.imshow('Division', division)\n",
    "    cv2.waitKey(0)\n",
    "    cv2.destroyAllWindows()"
   ]
  },
  {
   "cell_type": "markdown",
   "id": "dbb76930",
   "metadata": {},
   "source": [
    "## Implementation"
   ]
  },
  {
   "cell_type": "code",
   "execution_count": 13,
   "id": "9c8162f2",
   "metadata": {},
   "outputs": [
    {
     "name": "stdout",
     "output_type": "stream",
     "text": [
      "Provide the path of the image1: C:\\Users\\SHREYA\\Data\\Birds\\train\\AMERICAN GOLDFINCH\\001.jpg\n",
      "Provide the path of the image2: C:\\Users\\SHREYA\\Data\\Birds\\train\\AMERICAN GOLDFINCH\\025.jpg\n",
      "Choose the operation to be performed on image\n",
      "MENU\n",
      "1. Addition\n",
      "2. Subtraction\n",
      "3. Multiplication\n",
      "4. Division\n",
      "0. EXIT\n",
      "1\n",
      "Choose the operation to be performed on image\n",
      "MENU\n",
      "1. Addition\n",
      "2. Subtraction\n",
      "3. Multiplication\n",
      "4. Division\n",
      "0. EXIT\n",
      "2\n",
      "Choose the operation to be performed on image\n",
      "MENU\n",
      "1. Addition\n",
      "2. Subtraction\n",
      "3. Multiplication\n",
      "4. Division\n",
      "0. EXIT\n",
      "3\n",
      "Choose the operation to be performed on image\n",
      "MENU\n",
      "1. Addition\n",
      "2. Subtraction\n",
      "3. Multiplication\n",
      "4. Division\n",
      "0. EXIT\n",
      "4\n",
      "Choose the operation to be performed on image\n",
      "MENU\n",
      "1. Addition\n",
      "2. Subtraction\n",
      "3. Multiplication\n",
      "4. Division\n",
      "0. EXIT\n",
      "0\n"
     ]
    }
   ],
   "source": [
    "img1,img2 = input_images()\n",
    "original_image1,original_image2 = img1,img2\n",
    "choice =1\n",
    "while(choice!=0):\n",
    "    print('Choose the operation to be performed on image')\n",
    "    print('MENU')\n",
    "    print('1. Addition')\n",
    "    print('2. Subtraction')\n",
    "    print('3. Multiplication')\n",
    "    print('4. Division')\n",
    "    print('0. EXIT')\n",
    "    choice=int(input())\n",
    "    \n",
    "    if(choice == 1):\n",
    "        add(original_image1, original_image2)\n",
    "        \n",
    "    elif(choice == 2):\n",
    "        sub(original_image1, original_image2)\n",
    "      \n",
    "    elif(choice == 3):\n",
    "        mul(original_image1, original_image2)\n",
    "       \n",
    "    elif(choice == 4):\n",
    "        div(original_image1, original_image2)\n",
    "        \n",
    "    else:\n",
    "        break\n"
   ]
  }
 ],
 "metadata": {
  "kernelspec": {
   "display_name": "Python 3 (ipykernel)",
   "language": "python",
   "name": "python3"
  },
  "language_info": {
   "codemirror_mode": {
    "name": "ipython",
    "version": 3
   },
   "file_extension": ".py",
   "mimetype": "text/x-python",
   "name": "python",
   "nbconvert_exporter": "python",
   "pygments_lexer": "ipython3",
   "version": "3.8.11"
  }
 },
 "nbformat": 4,
 "nbformat_minor": 5
}
