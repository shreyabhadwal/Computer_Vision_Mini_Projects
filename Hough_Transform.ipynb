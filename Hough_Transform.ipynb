{
 "cells": [
  {
   "cell_type": "markdown",
   "id": "7618da81",
   "metadata": {},
   "source": [
    "# Line Detection By Using Hough Transform\n",
    "<br>"
   ]
  },
  {
   "cell_type": "code",
   "execution_count": 1,
   "id": "60d7fd11",
   "metadata": {},
   "outputs": [],
   "source": [
    "import cv2\n",
    "import numpy as np\n",
    "import math"
   ]
  },
  {
   "cell_type": "markdown",
   "id": "c8a4ae79",
   "metadata": {},
   "source": [
    "\n",
    "## Input Image"
   ]
  },
  {
   "cell_type": "markdown",
   "id": "81a34033",
   "metadata": {},
   "source": [
    "Taking image as input"
   ]
  },
  {
   "cell_type": "code",
   "execution_count": 18,
   "id": "4eb431a7",
   "metadata": {},
   "outputs": [],
   "source": [
    "def input_image():\n",
    "    \n",
    "    image_path = input(\"Enter path of the image :\")\n",
    "    img = cv2.imread(image_path,0)\n",
    "    cv2.imshow('Input',img)\n",
    "    cv2.waitKey(0)\n",
    "    cv2.destroyAllWindows()  \n",
    "    \n",
    "    return img"
   ]
  },
  {
   "cell_type": "markdown",
   "id": "52dd9385",
   "metadata": {},
   "source": [
    "## Detect Edges"
   ]
  },
  {
   "cell_type": "markdown",
   "id": "dd971079",
   "metadata": {},
   "source": [
    "Detect the edges of the image by using a Canny detector. Copy edges to the images that will display the results in BGR"
   ]
  },
  {
   "cell_type": "code",
   "execution_count": 23,
   "id": "13f16b90",
   "metadata": {},
   "outputs": [],
   "source": [
    "def edge_detection(img):\n",
    "    \n",
    "    dst = cv2.Canny(img, 50, 200, None, 3)\n",
    "    cdst = cv2.cvtColor(dst, cv2.COLOR_GRAY2BGR)\n",
    "    cv2.imshow('GRAY2BGR',cdst)\n",
    "    cv2.waitKey(0)\n",
    "    cv2.destroyAllWindows() \n",
    "\n",
    "    return dst,cdst"
   ]
  },
  {
   "cell_type": "markdown",
   "id": "a00e5340",
   "metadata": {},
   "source": [
    "## Standard Hough Line Transform"
   ]
  },
  {
   "cell_type": "markdown",
   "id": "b70382a5",
   "metadata": {},
   "source": [
    "First, we apply the Transform, and then we display the result by drawing the lines."
   ]
  },
  {
   "cell_type": "code",
   "execution_count": 24,
   "id": "cdd26cfc",
   "metadata": {},
   "outputs": [],
   "source": [
    "def hough_line_transform(dst,cdst):\n",
    "    \n",
    "    lines = cv2.HoughLines(dst, 1, np.pi / 180, 150, None, 0, 0)\n",
    "    if lines is not None:\n",
    "        for i in range(0, len(lines)):\n",
    "            rho = lines[i][0][0]\n",
    "            theta = lines[i][0][1]\n",
    "            a = math.cos(theta)\n",
    "            b = math.sin(theta)\n",
    "            x0 = a * rho\n",
    "            y0 = b * rho\n",
    "            pt1 = (int(x0 + 1000*(-b)), int(y0 + 1000*(a)))\n",
    "            pt2 = (int(x0 - 1000*(-b)), int(y0 - 1000*(a)))\n",
    "            cv2.line(cdst, pt1, pt2, (0,0,255), 3, cv2.LINE_AA)\n",
    "    \n",
    "    return cdst"
   ]
  },
  {
   "cell_type": "markdown",
   "id": "a1b520cd",
   "metadata": {},
   "source": [
    "## Display the Result"
   ]
  },
  {
   "cell_type": "code",
   "execution_count": 25,
   "id": "65b91cca",
   "metadata": {},
   "outputs": [],
   "source": [
    "def show_results(img,cdst):\n",
    "    \n",
    "    cv2.imshow(\"Source\", img)\n",
    "    cv2.imshow(\"Detected Lines (in red) - Standard Hough Line Transform\", cdst)\n",
    "    \n",
    "    cv2.waitKey()\n",
    "    return 0"
   ]
  },
  {
   "cell_type": "markdown",
   "id": "97f9d88a",
   "metadata": {},
   "source": [
    "## Driver Code"
   ]
  },
  {
   "cell_type": "code",
   "execution_count": null,
   "id": "2d1307b2",
   "metadata": {},
   "outputs": [
    {
     "name": "stdout",
     "output_type": "stream",
     "text": [
      "Enter path of the image :E:\\Wallpaper\\sudoku.png\n"
     ]
    }
   ],
   "source": [
    "img = input_image()\n",
    "dst, cdst = edge_detection(img)\n",
    "cdst1 = hough_line_transform(dst,cdst)\n",
    "show_results(img,cdst1)"
   ]
  },
  {
   "cell_type": "code",
   "execution_count": null,
   "id": "6a050e1e",
   "metadata": {},
   "outputs": [],
   "source": []
  }
 ],
 "metadata": {
  "kernelspec": {
   "display_name": "Python 3 (ipykernel)",
   "language": "python",
   "name": "python3"
  },
  "language_info": {
   "codemirror_mode": {
    "name": "ipython",
    "version": 3
   },
   "file_extension": ".py",
   "mimetype": "text/x-python",
   "name": "python",
   "nbconvert_exporter": "python",
   "pygments_lexer": "ipython3",
   "version": "3.8.11"
  }
 },
 "nbformat": 4,
 "nbformat_minor": 5
}
