{
 "cells": [
  {
   "cell_type": "markdown",
   "id": "043eeac0",
   "metadata": {},
   "source": [
    "# Image and Video Access"
   ]
  },
  {
   "cell_type": "code",
   "execution_count": 1,
   "id": "2db0b7fe",
   "metadata": {},
   "outputs": [],
   "source": [
    "import cv2\n",
    "import numpy as np\n",
    "from ffpyplayer.player import MediaPlayer\n",
    "global path"
   ]
  },
  {
   "cell_type": "markdown",
   "id": "73e2b5cd",
   "metadata": {},
   "source": [
    "## Accepting Path "
   ]
  },
  {
   "cell_type": "code",
   "execution_count": 2,
   "id": "3d6c929f",
   "metadata": {},
   "outputs": [],
   "source": [
    "def read_path():\n",
    "    path = input(\"Provide the path of the required file: \")\n",
    "    return path"
   ]
  },
  {
   "cell_type": "markdown",
   "id": "27e537f9",
   "metadata": {},
   "source": [
    "## Reading Image from path"
   ]
  },
  {
   "cell_type": "code",
   "execution_count": 3,
   "id": "072132dd",
   "metadata": {},
   "outputs": [],
   "source": [
    "def read_image(path):\n",
    "    img = cv2.imread(path,-1)\n",
    "    height, width, channels = img.shape #using shape method of numpy to store the height width and channels of image in variable\n",
    "    print(\"Shape of image: \",img.shape)\n",
    "    print(\"Height:{} \\nWidth:{} \\nChannels:{}\".format(height, width, channels))\n",
    "    cv2.imshow('Input Image',img)\n",
    "    cv2.waitKey(0)\n",
    "    cv2.destroyAllWindows()"
   ]
  },
  {
   "cell_type": "markdown",
   "id": "93a478a9",
   "metadata": {},
   "source": [
    "## Writing Image to specified path "
   ]
  },
  {
   "cell_type": "code",
   "execution_count": 4,
   "id": "7c605a5e",
   "metadata": {},
   "outputs": [],
   "source": [
    "def write_image(path):\n",
    "    img = cv2.imread(path, -1)\n",
    "    path1 = input(\"Provide the path where you want to store the file: \")\n",
    "    cv2.imwrite(path1, cv2.cvtColor(img, cv2.COLOR_BGR2GRAY))\n",
    "    imggs = cv2.imread(path1)\n",
    "    cv2.imshow('Input Image', imggs)\n",
    "    cv2.waitKey(0)\n",
    "    cv2.destroyAllWindows()"
   ]
  },
  {
   "cell_type": "markdown",
   "id": "194f98dd",
   "metadata": {},
   "source": [
    "## Reading Video without audio from specified path "
   ]
  },
  {
   "cell_type": "code",
   "execution_count": 5,
   "id": "57a09149",
   "metadata": {},
   "outputs": [],
   "source": [
    "def read_video(path):\n",
    "    cap = cv2.VideoCapture(path)\n",
    "    while(True):\n",
    "        ret, frame = cap.read()\n",
    "        if ret == True:\n",
    "            cv2.imshow('Simulation', frame)\n",
    "            if cv2.waitKey(10) == ord('r'):\n",
    "                break\n",
    "        else:\n",
    "            break\n",
    "    cap.release()\n",
    "    cv2.destroyAllWindows()"
   ]
  },
  {
   "cell_type": "markdown",
   "id": "1147e45b",
   "metadata": {},
   "source": [
    "## Reading Video with audio from specified path "
   ]
  },
  {
   "cell_type": "code",
   "execution_count": 6,
   "id": "72dc8573",
   "metadata": {},
   "outputs": [],
   "source": [
    "def read_audio_video(path):\n",
    "    cap = cv2.VideoCapture(path)\n",
    "    player = MediaPlayer(path)\n",
    "\n",
    "    while(True):\n",
    "        ret, frame = cap.read()\n",
    "        if not ret:\n",
    "            print(\"End of Video\")\n",
    "            player=0\n",
    "            break\n",
    "\n",
    "        audio_frame, val = player.get_frame()\n",
    "        cv2.imshow('Output', frame)\n",
    "        if cv2.waitKey(28) & 0xFF == ord('q'):\n",
    "            player=0\n",
    "            break\n",
    "    cap.release()\n",
    "    cv2.destroyAllWindows()"
   ]
  },
  {
   "cell_type": "markdown",
   "id": "1e1ee096",
   "metadata": {},
   "source": [
    "## Recording Video from webcam and writing to specified path"
   ]
  },
  {
   "cell_type": "code",
   "execution_count": 7,
   "id": "67c94139",
   "metadata": {},
   "outputs": [],
   "source": [
    "def write_video():\n",
    "    path1 = input(\"Provide the path where you want to store the file: \")\n",
    "    cap = cv2.VideoCapture(0)\n",
    "    vid_cod = cv2.VideoWriter_fourcc(*'XVID')\n",
    "    output = cv2.VideoWriter(path1, vid_cod, 20.0, (640,480))\n",
    "    while(True):\n",
    "        ret, frame = cap.read()\n",
    "        cv2.imshow(\"Recording\", frame)\n",
    "        output.write(frame)\n",
    "        if cv2.waitKey(1) &0XFF == ord('q'): \n",
    "            break\n",
    "    cap.release()\n",
    "    output.release()\n",
    "    cv2.destroyAllWindows()"
   ]
  },
  {
   "cell_type": "markdown",
   "id": "41bcf079",
   "metadata": {},
   "source": [
    "## Implementation "
   ]
  },
  {
   "cell_type": "code",
   "execution_count": 8,
   "id": "552bc455",
   "metadata": {},
   "outputs": [
    {
     "name": "stdout",
     "output_type": "stream",
     "text": [
      "\n",
      "MAIN MENU\n",
      "1.Reading an Image from a Specified Path \n",
      "2.Writing an Image to a Specified Path \n",
      "3.Reading a Video without Audio from a Specified Path \n",
      "4.Reading a Video with Audio from a Specified Path \n",
      "5.Record a Video using your Web Camera and Write a Video to a Specified Path \n",
      "0. Exit\n",
      "Enter the Choice:1\n",
      "Provide the path of the required file: D:\\Third Year\\Fifth Sem\\Computer Vision\\Lab\\stephencurry.jpg\n",
      "Shape of image:  (900, 1200, 3)\n",
      "Height:900 \n",
      "Width:1200 \n",
      "Channels:3\n",
      "\n",
      "MAIN MENU\n",
      "1.Reading an Image from a Specified Path \n",
      "2.Writing an Image to a Specified Path \n",
      "3.Reading a Video without Audio from a Specified Path \n",
      "4.Reading a Video with Audio from a Specified Path \n",
      "5.Record a Video using your Web Camera and Write a Video to a Specified Path \n",
      "0. Exit\n",
      "Enter the Choice:2\n",
      "Provide the path of the required file: D:\\Third Year\\Fifth Sem\\Computer Vision\\Lab\\stephencurry.jpg\n",
      "Provide the path where you want to store the file: D:\\Third Year\\Fifth Sem\\Computer Vision\\Lab\\stephgrayscale.png\n",
      "\n",
      "MAIN MENU\n",
      "1.Reading an Image from a Specified Path \n",
      "2.Writing an Image to a Specified Path \n",
      "3.Reading a Video without Audio from a Specified Path \n",
      "4.Reading a Video with Audio from a Specified Path \n",
      "5.Record a Video using your Web Camera and Write a Video to a Specified Path \n",
      "0. Exit\n",
      "Enter the Choice:3\n",
      "Provide the path of the required file: D:\\Third Year\\Fifth Sem\\Computer Vision\\Lab\\highway2.mp4\n",
      "\n",
      "MAIN MENU\n",
      "1.Reading an Image from a Specified Path \n",
      "2.Writing an Image to a Specified Path \n",
      "3.Reading a Video without Audio from a Specified Path \n",
      "4.Reading a Video with Audio from a Specified Path \n",
      "5.Record a Video using your Web Camera and Write a Video to a Specified Path \n",
      "0. Exit\n",
      "Enter the Choice:4\n",
      "Provide the path of the required file: D:\\Third Year\\Fifth Sem\\Computer Vision\\Lab\\highway2.mp4\n",
      "End of Video\n",
      "\n",
      "MAIN MENU\n",
      "1.Reading an Image from a Specified Path \n",
      "2.Writing an Image to a Specified Path \n",
      "3.Reading a Video without Audio from a Specified Path \n",
      "4.Reading a Video with Audio from a Specified Path \n",
      "5.Record a Video using your Web Camera and Write a Video to a Specified Path \n",
      "0. Exit\n",
      "Enter the Choice:5\n",
      "Provide the path where you want to store the file: D:\\Third Year\\Fifth Sem\\Computer Vision\\Lab\\cvlabdemo.mp4\n",
      "\n",
      "MAIN MENU\n",
      "1.Reading an Image from a Specified Path \n",
      "2.Writing an Image to a Specified Path \n",
      "3.Reading a Video without Audio from a Specified Path \n",
      "4.Reading a Video with Audio from a Specified Path \n",
      "5.Record a Video using your Web Camera and Write a Video to a Specified Path \n",
      "0. Exit\n",
      "Enter the Choice:0\n"
     ]
    }
   ],
   "source": [
    "while True:  \n",
    "    print(\"\\nMAIN MENU\")  \n",
    "    print(\"1.Reading an Image from a Specified Path \")  \n",
    "    print(\"2.Writing an Image to a Specified Path \")\n",
    "    print(\"3.Reading a Video without Audio from a Specified Path \")\n",
    "    print(\"4.Reading a Video with Audio from a Specified Path \")\n",
    "    print(\"5.Record a Video using your Web Camera and Write a Video to a Specified Path \")  \n",
    "    print(\"0. Exit\")  \n",
    "    choice = int(input(\"Enter the Choice:\"))\n",
    "\n",
    "    if choice == 1:\n",
    "        path = read_path()\n",
    "        read_image(path)\n",
    "    elif choice == 2:\n",
    "        path = read_path()\n",
    "        write_image(path)\n",
    "    elif choice == 3:\n",
    "        path = read_path()\n",
    "        read_video(path)\n",
    "    elif choice == 4:\n",
    "        path = read_path()\n",
    "        read_audio_video(path)\n",
    "    elif choice == 5:\n",
    "        write_video()\n",
    "    else:\n",
    "        break"
   ]
  },
  {
   "cell_type": "code",
   "execution_count": null,
   "id": "5f479077",
   "metadata": {},
   "outputs": [],
   "source": []
  }
 ],
 "metadata": {
  "kernelspec": {
   "display_name": "Python 3 (ipykernel)",
   "language": "python",
   "name": "python3"
  },
  "language_info": {
   "codemirror_mode": {
    "name": "ipython",
    "version": 3
   },
   "file_extension": ".py",
   "mimetype": "text/x-python",
   "name": "python",
   "nbconvert_exporter": "python",
   "pygments_lexer": "ipython3",
   "version": "3.8.11"
  }
 },
 "nbformat": 4,
 "nbformat_minor": 5
}
