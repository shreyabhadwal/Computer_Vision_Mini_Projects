{
 "cells": [
  {
   "cell_type": "markdown",
   "id": "317b1de3",
   "metadata": {},
   "source": [
    "# Spatial Domain Filters"
   ]
  },
  {
   "cell_type": "code",
   "execution_count": 1,
   "id": "e8ff567d",
   "metadata": {},
   "outputs": [],
   "source": [
    "import cv2\n",
    "import numpy as np"
   ]
  },
  {
   "cell_type": "code",
   "execution_count": 2,
   "id": "0cd0e8cc",
   "metadata": {},
   "outputs": [],
   "source": [
    "def input_image():\n",
    "    image_path = input(\"Provide the path of the required image :\")\n",
    "    img = cv2.imread(image_path,0)\n",
    "    cv2.imshow('name',img)\n",
    "    cv2.waitKey(0)\n",
    "    cv2.destroyAllWindows()    \n",
    "    return img"
   ]
  },
  {
   "cell_type": "markdown",
   "id": "af0d624d",
   "metadata": {},
   "source": [
    "## 1. Low Pass Average Filter"
   ]
  },
  {
   "cell_type": "code",
   "execution_count": 3,
   "id": "1c25d448",
   "metadata": {},
   "outputs": [],
   "source": [
    "def LPAF(img): \n",
    "    user_thresh = int(input(\"Enter intensity value for Low pass average filter\"))\n",
    "    img_rst = cv2.blur(img,(user_thresh,user_thresh))\n",
    "    cv2.imshow('LPAF',img_rst)\n",
    "    cv2.waitKey(0)\n",
    "    cv2.destroyAllWindows() \n",
    "    "
   ]
  },
  {
   "cell_type": "markdown",
   "id": "9f0da3da",
   "metadata": {},
   "source": [
    "## 2. Low Pass Median Filter"
   ]
  },
  {
   "cell_type": "code",
   "execution_count": 4,
   "id": "6f755243",
   "metadata": {},
   "outputs": [],
   "source": [
    "def LPMF(img): #low pass median filter\n",
    "    user_thresh = int(input(\"Enter filter size\"))\n",
    "    img_rst = cv2.medianBlur(img,user_thresh)\n",
    "    cv2.imshow('LPMF',img_rst)\n",
    "    cv2.waitKey(0)\n",
    "    cv2.destroyAllWindows() "
   ]
  },
  {
   "cell_type": "markdown",
   "id": "9584ad12",
   "metadata": {},
   "source": [
    "## 3. High Pass Filter"
   ]
  },
  {
   "cell_type": "code",
   "execution_count": 1,
   "id": "8bdda165",
   "metadata": {},
   "outputs": [],
   "source": [
    "def HPF(img): #High pass filter\n",
    "    kernel = np.array([[0.0, -1.0, 0.0], \n",
    "                       [-1.0, 4.0, -1.0],\n",
    "                       [0.0, -1.0, 0.0]])\n",
    "\n",
    "    kernel = kernel/(np.sum(kernel) if np.sum(kernel)!=0 else 1)\n",
    "    img_rst = cv2.filter2D(img,-1,kernel)\n",
    "    cv2.imshow('HPF',img_rst)\n",
    "    cv2.waitKey(0)\n",
    "    cv2.destroyAllWindows() "
   ]
  },
  {
   "cell_type": "markdown",
   "id": "eb8e2606",
   "metadata": {},
   "source": [
    "## 4. High Boost Filter"
   ]
  },
  {
   "cell_type": "code",
   "execution_count": 6,
   "id": "c7abc9f0",
   "metadata": {},
   "outputs": [],
   "source": [
    "def HBF(img): #High boost filter\n",
    "    boost_factor = int(input('Enter the value of Filter Factor for High-Boost Filtering : '))\n",
    "    img_rst = img.copy()\n",
    "    \n",
    "    for i in range(1,img.shape[0]-1):\n",
    "        for j in range(1,img.shape[1]-1):\n",
    "            blur_factor = (img[i-1, j-1] + img[i-1, j] + img[i-1, j+1] + img[i, j-1] + img[i, j] + img[i, j+1] + img[i+1, j-1] + img[i+1, j] + img[i+1, j+1])/9\n",
    "            mask = boost_factor*img[i, j]- (blur_factor)\n",
    "            img_rst[i, j] = img[i, j] + mask           \n",
    "    cv2.imshow('HBF',img_rst)\n",
    "    cv2.waitKey(0)\n",
    "    cv2.destroyAllWindows() "
   ]
  },
  {
   "cell_type": "markdown",
   "id": "6fc5b590",
   "metadata": {},
   "source": [
    "## Implementation "
   ]
  },
  {
   "cell_type": "code",
   "execution_count": 7,
   "id": "f97a41b4",
   "metadata": {},
   "outputs": [
    {
     "name": "stdout",
     "output_type": "stream",
     "text": [
      "Provide the path of the required image :F:\\College\\Sem 5\\CV\\Lab\\ss1.png\n",
      "Choose the operation to be performed on image\n",
      "MENU\n",
      "1. Low Pass Average Filter\n",
      "2. Low Pass Median Filter\n",
      "3. High Pass Filter\n",
      "4. High Boost Filter\n",
      "0. EXIT\n",
      "4\n",
      "Enter the value of Filter Factor for High-Boost Filtering : 4\n"
     ]
    },
    {
     "name": "stderr",
     "output_type": "stream",
     "text": [
      "C:\\Users\\hp\\AppData\\Local\\Temp/ipykernel_46452/2735499827.py:7: RuntimeWarning: overflow encountered in ubyte_scalars\n",
      "  blur_factor = (img[i-1, j-1] + img[i-1, j] + img[i-1, j+1] + img[i, j-1] + img[i, j] + img[i, j+1] + img[i+1, j-1] + img[i+1, j] + img[i+1, j+1])/9\n"
     ]
    },
    {
     "name": "stdout",
     "output_type": "stream",
     "text": [
      "Choose the operation to be performed on image\n",
      "MENU\n",
      "1. Low Pass Average Filter\n",
      "2. Low Pass Median Filter\n",
      "3. High Pass Filter\n",
      "4. High Boost Filter\n",
      "0. EXIT\n",
      "0\n"
     ]
    }
   ],
   "source": [
    "img = input_image()\n",
    "original_image = img\n",
    "choice =1\n",
    "while(choice!=0):\n",
    "    print('Choose the operation to be performed on image')\n",
    "    print('MENU')\n",
    "    print('1. Low Pass Average Filter')\n",
    "    print('2. Low Pass Median Filter')\n",
    "    print('3. High Pass Filter')\n",
    "    print('4. High Boost Filter')\n",
    "    print(\"0. EXIT\")\n",
    "    choice=int(input())\n",
    "    \n",
    "    if(choice == 1):\n",
    "        LPAF(img)\n",
    "        \n",
    "    elif(choice == 2):\n",
    "        LPMF(img)\n",
    "        \n",
    "    elif(choice == 3):\n",
    "        HPF(img)\n",
    "             \n",
    "    elif(choice == 4):\n",
    "        HBF(img)\n",
    "    \n",
    "    else:\n",
    "        break"
   ]
  }
 ],
 "metadata": {
  "kernelspec": {
   "display_name": "Python 3 (ipykernel)",
   "language": "python",
   "name": "python3"
  },
  "language_info": {
   "codemirror_mode": {
    "name": "ipython",
    "version": 3
   },
   "file_extension": ".py",
   "mimetype": "text/x-python",
   "name": "python",
   "nbconvert_exporter": "python",
   "pygments_lexer": "ipython3",
   "version": "3.8.11"
  }
 },
 "nbformat": 4,
 "nbformat_minor": 5
}
